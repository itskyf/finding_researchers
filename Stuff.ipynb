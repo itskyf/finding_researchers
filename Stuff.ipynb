{
 "cells": [
  {
   "cell_type": "markdown",
   "id": "bbd19e9a-1828-43b3-be35-6d8250f1cb92",
   "metadata": {},
   "source": [
    "Get journal categories from [Google Scholar Top Venues](https://scholar.google.com/citations?view_op=top_venues)"
   ]
  },
  {
   "cell_type": "code",
   "execution_count": 1,
   "id": "c677da45-fc35-400e-ac3e-def1c296ed17",
   "metadata": {},
   "outputs": [],
   "source": [
    "import json\n",
    "from pathlib import Path\n",
    "\n",
    "from scholarly import scholarly\n",
    "\n",
    "google_scholar_dir = Path(\"data/google_scholar/\")\n",
    "google_scholar_dir.mkdir(exist_ok=True)\n",
    "\n",
    "# journal_categories will fetch online data so it takes some time\n",
    "categories = list(scholarly.journal_categories.keys())\n",
    "sub_categories = list(\n",
    "    set(\n",
    "        sub_cat\n",
    "        for cat_dict in scholarly.journal_categories.values()\n",
    "        for sub_cat in cat_dict.keys()\n",
    "        if sub_cat is not None\n",
    "    )\n",
    ")\n",
    "\n",
    "cat_path = google_scholar_dir / \"categories.json\"\n",
    "sub_cat_path = google_scholar_dir / \"sub_categories.json\"\n",
    "\n",
    "with cat_path.open(\"w\") as cat_f:\n",
    "    json.dump(categories, cat_f, indent=2)\n",
    "with sub_cat_path.open(\"w\") as sub_cat_f:\n",
    "    json.dump(sub_categories, sub_cat_f, indent=2)\n"
   ]
  },
  {
   "cell_type": "markdown",
   "id": "536adb22-434e-4ca7-afa0-36839681f0e4",
   "metadata": {},
   "source": [
    "Generate embeddings for each category"
   ]
  },
  {
   "cell_type": "code",
   "execution_count": 14,
   "id": "ddd4f858-f450-4747-8b11-9dc17e16d235",
   "metadata": {},
   "outputs": [],
   "source": [
    "import torch\n",
    "\n",
    "from sentence_transformers import SentenceTransformer\n",
    "from sentence_transformers.util import semantic_search\n",
    "\n",
    "with cat_path.open() as cat_f:\n",
    "    categories = json.load(cat_f)\n",
    "with sub_cat_path.open() as sub_cat_f:\n",
    "    sub_categories = json.load(sub_cat_f)\n",
    "\n",
    "st_model = SentenceTransformer(\"sentence-transformers/all-MiniLM-L6-v2\")\n",
    "cat_embeddings = st_model.encode(categories, convert_to_tensor=True)\n",
    "sub_cat_embeddings = st_model.encode(sub_categories, convert_to_tensor=True)\n",
    "\n",
    "torch.save(sub_cat_embeddings, google_scholar_dir / \"sub_cat_embeddings.pt\")\n"
   ]
  },
  {
   "cell_type": "markdown",
   "id": "d39a3491-31c1-4b14-a109-551e0cf52095",
   "metadata": {},
   "source": [
    "Test query search"
   ]
  },
  {
   "cell_type": "code",
   "execution_count": 12,
   "id": "2368dad8-2a5d-44c0-a575-8bee9666ac9e",
   "metadata": {},
   "outputs": [
    {
     "name": "stdout",
     "output_type": "stream",
     "text": [
      "Health & Medical Sciences 0.29512783885002136\n",
      "Physics & Mathematics 0.1700638234615326\n",
      "Robotics 0.7121439576148987\n",
      "Biomedical Technology 0.4736882150173187\n",
      "Medical Informatics 0.4277925491333008\n",
      "Orthopedic Medicine & Surgery 0.4193120300769806\n"
     ]
    }
   ],
   "source": [
    "query = \"robotic in Healthcare\"\n",
    "query_embedding = st_model.encode([query], convert_to_tensor=True)\n",
    "cat_matches = semantic_search(query_embedding, cat_embeddings, top_k=2)[0]\n",
    "sub_cat_matches = semantic_search(query_embedding, sub_cat_embeddings, top_k=4)[0]\n",
    "\n",
    "for match in cat_matches:\n",
    "    print(categories[match[\"corpus_id\"]], match[\"score\"])\n",
    "\n",
    "for match in sub_cat_matches:\n",
    "    print(sub_categories[match[\"corpus_id\"]], match[\"score\"])\n"
   ]
  }
 ],
 "metadata": {
  "kernelspec": {
   "display_name": "Python 3 (ipykernel)",
   "language": "python",
   "name": "python3"
  },
  "language_info": {
   "codemirror_mode": {
    "name": "ipython",
    "version": 3
   },
   "file_extension": ".py",
   "mimetype": "text/x-python",
   "name": "python",
   "nbconvert_exporter": "python",
   "pygments_lexer": "ipython3",
   "version": "3.11.6"
  }
 },
 "nbformat": 4,
 "nbformat_minor": 5
}
